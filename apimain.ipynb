{
 "cells": [
  {
   "cell_type": "code",
   "execution_count": null,
   "metadata": {},
   "outputs": [
    {
     "name": "stdout",
     "output_type": "stream",
     "text": [
      " * Serving Flask app \"__main__\" (lazy loading)\n",
      " * Environment: production\n",
      "\u001b[31m   WARNING: This is a development server. Do not use it in a production deployment.\u001b[0m\n",
      "\u001b[2m   Use a production WSGI server instead.\u001b[0m\n",
      " * Debug mode: off\n"
     ]
    },
    {
     "name": "stderr",
     "output_type": "stream",
     "text": [
      " * Running on http://localhost:6000/ (Press CTRL+C to quit)\n"
     ]
    }
   ],
   "source": [
    "import os\n",
    "from flask import Flask, render_template, request\n",
    "from lprecognition1 import getdata\n",
    "app = Flask(__name__)\n",
    "\n",
    "APP_ROOT = os.path.dirname(os.path.abspath(\"__file__\"))\n",
    "\n",
    "#os.path.dirname(os.path.abspath(__file__))\n",
    "\n",
    "@app.route(\"/\")\n",
    "def main():\n",
    "   return render_template('index.html')\n",
    "\n",
    "@app.route('/uploader', methods = ['POST'])\n",
    "def upload_file():\n",
    "   target = os.path.join(APP_ROOT, 'static/')\n",
    "   print(target)\n",
    "\n",
    "   if not os.path.isdir(target):\n",
    "       os.mkdir(target)\n",
    "\n",
    "   for file in request.files.getlist(\"file\"):\n",
    "       print(file)\n",
    "       filename = file.filename\n",
    "       destination = \"/\".join([target, filename])\n",
    "       print(destination)\n",
    "       file.save(destination)\n",
    "       #a = getdata(filename)\n",
    "\n",
    "   return render_template(\"index.html\")\n",
    "\n",
    "@app.route(\"/<name>\")\n",
    "def get(name):\n",
    "    d = getdata(name)\n",
    "    return render_template(\"data.html\", name = d)\n",
    "\n",
    "if __name__ == '__main__':\n",
    "   app.run(host = 'localhost', port = 6000)\n"
   ]
  },
  {
   "cell_type": "code",
   "execution_count": null,
   "metadata": {},
   "outputs": [],
   "source": []
  }
 ],
 "metadata": {
  "kernelspec": {
   "display_name": "Python 3",
   "language": "python",
   "name": "python3"
  },
  "language_info": {
   "codemirror_mode": {
    "name": "ipython",
    "version": 3
   },
   "file_extension": ".py",
   "mimetype": "text/x-python",
   "name": "python",
   "nbconvert_exporter": "python",
   "pygments_lexer": "ipython3",
   "version": "3.7.4"
  }
 },
 "nbformat": 4,
 "nbformat_minor": 2
}
